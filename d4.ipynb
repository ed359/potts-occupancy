{
 "cells": [
  {
   "cell_type": "markdown",
   "metadata": {},
   "source": [
    "# Full solution for $d=4$, $q\\ge 5$"
   ]
  },
  {
   "cell_type": "code",
   "execution_count": null,
   "metadata": {
    "scrolled": false
   },
   "outputs": [],
   "source": [
    "# Load code in external files\n",
    "load('./local_views.pyx')\n",
    "load('./properties.pyx')\n",
    "\n",
    "# Set up variables common to all computations.\n",
    "q, lam, r, t = var('q, lam, r, t')\n",
    "\n",
    "d       = 4\n",
    "lam_sub = 1/(1+t)\n",
    "\n",
    "# The number of processes to spawn in parallel\n",
    "# -1 means the number of CPUs (including hyperthreads)\n",
    "# -2 means all but one.\n",
    "n_jobs = -2\n",
    "\n",
    "print \"Done.\""
   ]
  },
  {
   "cell_type": "markdown",
   "metadata": {},
   "source": [
    "## Generating the local views and calculating properties\n",
    "\n",
    "Needs to be done only once as data is saved to disk. This takes a long time."
   ]
  },
  {
   "cell_type": "code",
   "execution_count": null,
   "metadata": {
    "scrolled": false
   },
   "outputs": [],
   "source": [
    "save_Ls(d)\n",
    "save_all_props(d, n_jobs)"
   ]
  },
  {
   "cell_type": "markdown",
   "metadata": {},
   "source": [
    "## Minimization\n",
    "\n",
    "- $q\\le4$ cannot be solved with this method: the LP seems to be underconstrained.\n",
    "- $q=5$ and $q\\ge6$ are done separately.\n",
    "- As with the $d=3$ paper, we substitute variables and show that the slack is a polynomial with positive coefficients in the relevant variables.\n",
    "\n",
    "We use $e^{-b} = \\lambda = 1/(1+t)$, and in the $q\\ge 6$ computation we use $q=r+6$."
   ]
  },
  {
   "cell_type": "markdown",
   "metadata": {
    "collapsed": true
   },
   "source": [
    "### Minimization for $q=5$\n",
    "\n",
    "We set $q=5$ and use constraints corresponding to partitions $4$ and $2+1+1$ of $4$."
   ]
  },
  {
   "cell_type": "code",
   "execution_count": null,
   "metadata": {
    "scrolled": false
   },
   "outputs": [],
   "source": [
    "q_sub = 5\n",
    "Ss = map(Partition, [[4], [2, 1, 1]])"
   ]
  },
  {
   "cell_type": "markdown",
   "metadata": {},
   "source": [
    "The method depends on a positive 'magic factor' which clears the denominator in every slack."
   ]
  },
  {
   "cell_type": "code",
   "execution_count": null,
   "metadata": {
    "scrolled": false
   },
   "outputs": [],
   "source": [
    "min_magic_q5 = 6*(16*t^10 + 176*t^9 + 888*t^8 + 2676*t^7 + 5309*t^6 + \n",
    "                  7260*t^5 + 6996*t^4 + 4760*t^3 + 2224*t^2 + 660*t + \n",
    "                  100)*(2*t^2 + 6*t + 5)*(t + 1)^31*t^2\n",
    "\n",
    "# Set up some variables for the slack function\n",
    "\n",
    "fields = ['Z', 'ZUv'] + [('Zgamd', Partition(S)) for S in Ss]\n",
    "\n",
    "ZKdd_orig  = build_ZKdd(d, q, lam)\n",
    "ZUKdd_orig = lam*ZKdd_orig.derivative(lam)/(2*d)\n",
    "ZKdd_sub   = ZKdd_orig.subs(q=q_sub, lam=lam_sub)\n",
    "ZUKdd_sub  = ZUKdd_orig.subs(q=q_sub, lam=lam_sub)\n",
    "ps_Kdd_sub = list(gen_props_Kdd(d, q_sub, lam_sub))\n",
    "ZDelta = build_ZDelta(d, ZKdd_sub, ZUKdd_sub, Ss, ps_Kdd_sub)\n",
    "\n",
    "def slack(p, magic):\n",
    "    if p['isKdd']:\n",
    "        return 0\n",
    "    slack = (ZKdd_sub*p['ZUv'] - p['Z']*ZUKdd_sub\n",
    "             - sum(ZDelta[S]*p['Zgamd', S] for S in Ss)) * magic\n",
    "    return slack.polynomial(ZZ)\n",
    "\n",
    "# A test function that return True if the slack has the desired properties\n",
    "def succeeds(p):\n",
    "    if p['isKdd']:\n",
    "        return True\n",
    "    \n",
    "    subs_props(p, q_sub, lam_sub, fields)\n",
    "    m = slack(p, min_magic_q5)\n",
    "\n",
    "    return all(c >= 0 for c in m.coefficients())"
   ]
  },
  {
   "cell_type": "code",
   "execution_count": null,
   "metadata": {
    "scrolled": false
   },
   "outputs": [],
   "source": [
    "# Run the tests in parallel, collecting the results in a list\n",
    "aprun = TqdmParallelExecutor(n_jobs=n_jobs)\n",
    "results = aprun(total=int(num_Ls[d]), leave=True)(delayed(succeeds)(p) \n",
    "                                                  for p in read_all_props(d))\n",
    "\n",
    "if all(results):\n",
    "    print('Success!')\n",
    "else:\n",
    "    print('Fail!')"
   ]
  },
  {
   "cell_type": "markdown",
   "metadata": {},
   "source": [
    "### Minimization for $q\\ge6$\n",
    "\n",
    "We set $q=r+6$ and use constraints corresponding to partitions $2+1+1$ and $1+1+1+1$ of $4$."
   ]
  },
  {
   "cell_type": "code",
   "execution_count": null,
   "metadata": {
    "scrolled": false
   },
   "outputs": [],
   "source": [
    "q_sub = r+6\n",
    "Ss = map(Partition, [[2, 1, 1], [1, 1, 1, 1]])"
   ]
  },
  {
   "cell_type": "markdown",
   "metadata": {},
   "source": [
    "The method depends on a *different* positive 'magic factor' which clears the denominator in every slack."
   ]
  },
  {
   "cell_type": "code",
   "execution_count": null,
   "metadata": {
    "scrolled": false
   },
   "outputs": [],
   "source": [
    "min_magic = 2*(r^4*t^9 + 9*r^4*t^8 + 11*r^3*t^9 + 36*r^4*t^7 + 105*r^3*t^8 + \n",
    "               39*r^2*t^9 + 84*r^4*t^6 + 447*r^3*t^7 + 411*r^2*t^8 + 51*r*t^9 + \n",
    "               126*r^4*t^5 + 1117*r^3*t^6 + 1926*r^2*t^7 + 645*r*t^8 + 18*t^9 + \n",
    "               126*r^4*t^4 + 1809*r^3*t^5 + 5286*r^2*t^6 + 3477*r*t^7 + \n",
    "               342*t^8 + 84*r^4*t^3 + 1971*r^3*t^4 + 9393*r^2*t^5 + 10715*r*t^6 + \n",
    "               2250*t^7 + 36*r^4*t^2 + 1445*r^3*t^3 + 11241*r^2*t^4 + 21096*r*t^5 + \n",
    "               7954*t^6 + 9*r^4*t + 687*r^3*t^2 + 9090*r^2*t^3 + 27816*r*t^4 + \n",
    "               17508*t^5 + r^4 + 192*r^3*t + 4806*r^2*t^2 + 24812*r*t^3 + \n",
    "               25428*t^4 + 24*r^3 + 1512*r^2*t + 14580*r*t^2 + 24888*t^3 + \n",
    "               216*r^2 + 5184*r*t + 16200*t^2 + 864*r + 6480*t + \n",
    "               1296)*(r + 4)*(r + 3)*(t + 1)^35"
   ]
  },
  {
   "cell_type": "code",
   "execution_count": null,
   "metadata": {
    "scrolled": false
   },
   "outputs": [],
   "source": [
    "# Set up some variables for the slack function\n",
    "\n",
    "fields = ['Z', 'ZUv'] + [('Zgamd', Partition(S)) for S in Ss]\n",
    "\n",
    "ZKdd_orig  = build_ZKdd(d, q, lam)\n",
    "ZUKdd_orig = lam*ZKdd_orig.derivative(lam)/(2*d)\n",
    "ZKdd_sub   = ZKdd_orig.subs(q=q_sub, lam=lam_sub)\n",
    "ZUKdd_sub  = ZUKdd_orig.subs(q=q_sub, lam=lam_sub)\n",
    "ps_Kdd_sub = list(gen_props_Kdd(d, q_sub, lam_sub))\n",
    "ZDelta = build_ZDelta(d, ZKdd_sub, ZUKdd_sub, Ss, ps_Kdd_sub)\n",
    "\n",
    "def slack(p, magic):\n",
    "    if p['isKdd']:\n",
    "        return 0\n",
    "    slack = (ZKdd_sub*p['ZUv'] - p['Z']*ZUKdd_sub\n",
    "             - sum(ZDelta[S]*p['Zgamd', S] for S in Ss)) * magic\n",
    "    return slack.polynomial(ZZ)\n",
    "\n",
    "# A test function that return True if the slack has the desired properties\n",
    "def succeeds(p):\n",
    "    if p['isKdd']:\n",
    "        return True\n",
    "    \n",
    "    subs_props(p, q_sub, lam_sub, fields)\n",
    "    m = slack(p, min_magic)\n",
    "\n",
    "    return all(c >= 0 for c in m.coefficients())"
   ]
  },
  {
   "cell_type": "code",
   "execution_count": null,
   "metadata": {
    "scrolled": false
   },
   "outputs": [],
   "source": [
    "# Run the tests in parallel, collecting the results in a list\n",
    "aprun = TqdmParallelExecutor(n_jobs=n_jobs)\n",
    "results = aprun(total=int(num_Ls[d]), leave=True)(delayed(succeeds)(p)\n",
    "                                                  for p in read_all_props(d))\n",
    "\n",
    "if all(results):\n",
    "    print('Success!')\n",
    "else:\n",
    "    print('Fail!')"
   ]
  },
  {
   "cell_type": "markdown",
   "metadata": {},
   "source": [
    "## Maximization\n",
    "\n",
    "- $q\\le4$ cannot be solved with this method.\n",
    "- The whole range $q\\ge5$ is done with one calculation.\n",
    "- As with the $d=3$ paper, we substitute variables and show that the slack is a polynomial with positive coefficients in the relevant variables.\n",
    "\n",
    "We use $e^{-b} = \\lambda = 1/(1+t)$, and $q=r+5$. A magic factor is also present like above."
   ]
  },
  {
   "cell_type": "code",
   "execution_count": null,
   "metadata": {
    "scrolled": false
   },
   "outputs": [],
   "source": [
    "q_sub = r+5\n",
    "max_magic = 2*(t + 1)^25"
   ]
  },
  {
   "cell_type": "code",
   "execution_count": null,
   "metadata": {
    "scrolled": false
   },
   "outputs": [],
   "source": [
    "# Set up some variables for the slack function\n",
    "q_sub   = r+5\n",
    "\n",
    "fields = ['Z', 'ZUv']\n",
    "\n",
    "ZKd1_orig  = build_ZKd1(d, q, lam)\n",
    "ZUKd1_orig = lam*ZKd1_orig.derivative(lam)/(d+1)\n",
    "ZKd1_sub   = ZKd1_orig.subs(q=q_sub, lam=lam_sub)\n",
    "ZUKd1_sub  = ZUKd1_orig.subs(q=q_sub, lam=lam_sub)\n",
    "\n",
    "def slack(p, magic):\n",
    "    if p['isKd1']:\n",
    "        return 0\n",
    "    slack = (p['Z']*ZUKd1_sub - ZKd1_sub*p['ZUv']) * magic\n",
    "    return slack.polynomial(ZZ)\n",
    "\n",
    "# A test function that return True if the slack has the desired properties\n",
    "def succeeds(p):\n",
    "    if p['isKd1']:\n",
    "        return True\n",
    "    \n",
    "    subs_props(p, q_sub, lam_sub, fields)\n",
    "    m = slack(p, max_magic)\n",
    "\n",
    "    return all(c >= 0 for c in m.coefficients())"
   ]
  },
  {
   "cell_type": "code",
   "execution_count": null,
   "metadata": {
    "scrolled": false
   },
   "outputs": [],
   "source": [
    "# Run the tests in parallel, collecting the results in a list\n",
    "aprun = TqdmParallelExecutor(n_jobs=n_jobs)\n",
    "results = aprun(total=int(num_Ls[d]), leave=True)(delayed(succeeds)(p) \n",
    "                                                  for p in read_all_props(d))\n",
    "\n",
    "if all(results):\n",
    "    print('Success!')\n",
    "else:\n",
    "    print('Fail!')"
   ]
  }
 ],
 "metadata": {
  "kernelspec": {
   "display_name": "SageMath 8.0",
   "language": "",
   "name": "sagemath"
  },
  "language_info": {
   "codemirror_mode": {
    "name": "ipython",
    "version": 2
   },
   "file_extension": ".py",
   "mimetype": "text/x-python",
   "name": "python",
   "nbconvert_exporter": "python",
   "pygments_lexer": "ipython2",
   "version": "2.7.13"
  }
 },
 "nbformat": 4,
 "nbformat_minor": 2
}
